{
 "cells": [
  {
   "cell_type": "markdown",
   "id": "e5f40492-1ee3-4f68-8504-3437ca05a218",
   "metadata": {},
   "source": [
    "## Import Libraries"
   ]
  },
  {
   "cell_type": "code",
   "execution_count": 2,
   "id": "7675c127-3a13-49ce-8662-6032f3b69c54",
   "metadata": {},
   "outputs": [],
   "source": [
    "from PIL import Image\n",
    "from tqdm import tqdm\n",
    "import glob\n",
    "\n",
    "from docarray import DocumentArray\n",
    "from docarray import Document\n",
    "\n",
    "\n",
    "\n",
    "from umap import UMAP\n",
    "import pandas as pd\n",
    "import requests\n",
    "from bs4 import BeautifulSoup\n",
    "from urllib.request import urlopen"
   ]
  },
  {
   "cell_type": "markdown",
   "id": "7ebc12d5-bac2-4fe7-bdf9-da7ade367b7b",
   "metadata": {},
   "source": [
    "## Download the Image Data"
   ]
  },
  {
   "cell_type": "code",
   "execution_count": 8,
   "id": "d9304a63-f27c-43e0-b9c3-26e84aa260c7",
   "metadata": {},
   "outputs": [
    {
     "name": "stdout",
     "output_type": "stream",
     "text": [
      "https://collections.ushmm.org/search/?f%5Bf_images%5D%5B%5D=all_images&f%5Bf_images%5D%5B%5D=indiv_photographs&page=1&per_page=50\n"
     ]
    }
   ],
   "source": [
    "def download_image(url):\n",
    "    image_name = url.split(\"/\")[-1]\n",
    "    response = requests.get(url)\n",
    "    if response.status_code == 200:\n",
    "        with open(f\"../data/images/{image_name}.jpg\", 'wb') as f:\n",
    "            f.write(response.content)\n",
    "            \n",
    "def get_images(url = \"https://collections.ushmm.org/search/?f%5Bf_images%5D%5B%5D=all_images&f%5Bf_images%5D%5B%5D=indiv_photographs&page=1&per_page=50\"):\n",
    "    r = requests.get(url)\n",
    "    soup = BeautifulSoup(r.content)\n",
    "    all_data = []\n",
    "    total_page_nums = int(soup.find(\"ul\", {\"class\": \"pagination\"}).find_all(\"li\")[-1].text.strip())\n",
    "    for i in range(1, 2):\n",
    "        url = f\"https://collections.ushmm.org/search/?f%5Bf_images%5D%5B%5D=all_images&f%5Bf_images%5D%5B%5D=indiv_photographs&page={i}&per_page=50\"\n",
    "        print(url)\n",
    "        r = requests.get(url)\n",
    "        soup = BeautifulSoup(r.content)\n",
    "        items = soup.find_all(\"div\", {\"class\": \"document\"})\n",
    "        for item in items:\n",
    "            try:\n",
    "                title = item.find(\"a\").text.strip()\n",
    "                page_url = \"https://collections.ushmm.org\"+item.find(\"a\")[\"href\"]\n",
    "                image_url = item.find(\"img\")[\"src\"]\n",
    "                image_name = url.split(\"/\")[-1]\n",
    "                # image_file = f\"../data/images/{image_name}.jpg\"\n",
    "                all_data.append(\n",
    "                    (\n",
    "                        title, page_url, image_url\n",
    "                    )\n",
    "                )\n",
    "                download_image(image_url)\n",
    "            except:\n",
    "                TypeError\n",
    "\n",
    "    return all_data\n",
    "image_data = get_images()"
   ]
  },
  {
   "cell_type": "code",
   "execution_count": 36,
   "id": "770c2413-9c70-4bc6-b5f0-64f107586e4d",
   "metadata": {},
   "outputs": [
    {
     "data": {
      "text/plain": [
       "48"
      ]
     },
     "execution_count": 36,
     "metadata": {},
     "output_type": "execute_result"
    }
   ],
   "source": [
    "len(image_data)"
   ]
  },
  {
   "cell_type": "code",
   "execution_count": 9,
   "id": "9bfe7b22-d3cd-4fd5-ae07-39ee937a804f",
   "metadata": {},
   "outputs": [],
   "source": [
    "da = DocumentArray.from_files('../data/images/*.jpg')"
   ]
  },
  {
   "cell_type": "code",
   "execution_count": 10,
   "id": "576bd9fe-7f16-44d1-92f3-f7182dfd694d",
   "metadata": {},
   "outputs": [
    {
     "data": {
      "text/html": [
       "<pre style=\"white-space:pre;overflow-x:auto;line-height:normal;font-family:Menlo,'DejaVu Sans Mono',consolas,'Courier New',monospace\">📄 <span style=\"font-weight: bold\">Document</span>: <span style=\"color: #008080; text-decoration-color: #008080\">5d4278eede2d585a82542ee2d3eb6105</span>\n",
       "╭──────────────────────┬───────────────────────────────────────────────────────╮\n",
       "│<span style=\"font-weight: bold\"> Attribute            </span>│<span style=\"font-weight: bold\"> Value                                                 </span>│\n",
       "├──────────────────────┼───────────────────────────────────────────────────────┤\n",
       "│ mime_type            │ image/jpeg                                            │\n",
       "│ uri                  │ ..<span style=\"color: #800080; text-decoration-color: #800080\">/data/</span><span style=\"color: #ff00ff; text-decoration-color: #ff00ff\">images</span>\\<span style=\"color: #008080; text-decoration-color: #008080; font-weight: bold\">1296015.j</span>pg                            │\n",
       "╰──────────────────────┴───────────────────────────────────────────────────────╯\n",
       "</pre>\n"
      ],
      "text/plain": [
       "📄 \u001b[1mDocument\u001b[0m: \u001b[36m5d4278eede2d585a82542ee2d3eb6105\u001b[0m\n",
       "╭──────────────────────┬───────────────────────────────────────────────────────╮\n",
       "│\u001b[1m \u001b[0m\u001b[1mAttribute           \u001b[0m\u001b[1m \u001b[0m│\u001b[1m \u001b[0m\u001b[1mValue                                                \u001b[0m\u001b[1m \u001b[0m│\n",
       "├──────────────────────┼───────────────────────────────────────────────────────┤\n",
       "│ mime_type            │ image/jpeg                                            │\n",
       "│ uri                  │ ..\u001b[35m/data/\u001b[0m\u001b[95mimages\u001b[0m\\\u001b[1;36m1296015.j\u001b[0mpg                            │\n",
       "╰──────────────────────┴───────────────────────────────────────────────────────╯\n"
      ]
     },
     "metadata": {},
     "output_type": "display_data"
    }
   ],
   "source": [
    "da[0]"
   ]
  },
  {
   "cell_type": "code",
   "execution_count": 11,
   "id": "317d885c-d3c6-430d-81bb-c63663a3e3cc",
   "metadata": {},
   "outputs": [
    {
     "data": {
      "image/jpeg": "[encoded data removed]",
      "text/plain": [
       "<IPython.core.display.Image object>"
      ]
     },
     "metadata": {},
     "output_type": "display_data"
    }
   ],
   "source": [
    "da[0].display()"
   ]
  },
  {
   "cell_type": "code",
   "execution_count": 12,
   "id": "fa24f0ec-0111-4c88-8577-6d5219d7caa0",
   "metadata": {},
   "outputs": [],
   "source": [
    "import timm\n",
    "from PIL import Image\n",
    "from timm.data import resolve_data_config\n",
    "from timm.data.transforms_factory import create_transform"
   ]
  },
  {
   "cell_type": "code",
   "execution_count": 13,
   "id": "07ef05b2-3911-4dab-b6df-419b4758ce99",
   "metadata": {},
   "outputs": [
    {
     "name": "stderr",
     "output_type": "stream",
     "text": [
      "Downloading: \"https://github.com/rwightman/pytorch-image-models/releases/download/v0.1-weights/mobilenetv3_large_100_ra-f55367f5.pth\" to C:\\Users\\wma22/.cache\\torch\\hub\\checkpoints\\mobilenetv3_large_100_ra-f55367f5.pth\n"
     ]
    },
    {
     "data": {
      "text/plain": [
       "{'input_size': (3, 224, 224),\n",
       " 'interpolation': 'bicubic',\n",
       " 'mean': (0.485, 0.456, 0.406),\n",
       " 'std': (0.229, 0.224, 0.225),\n",
       " 'crop_pct': 0.875}"
      ]
     },
     "execution_count": 13,
     "metadata": {},
     "output_type": "execute_result"
    }
   ],
   "source": [
    "model = timm.create_model('mobilenetv3_large_100', pretrained=True, num_classes=0)\n",
    "config = resolve_data_config({}, model=model)\n",
    "config"
   ]
  },
  {
   "cell_type": "code",
   "execution_count": 14,
   "id": "d429aab3-7244-456b-a905-503b932dbb9a",
   "metadata": {},
   "outputs": [
    {
     "data": {
      "text/plain": [
       "(224, 224)"
      ]
     },
     "execution_count": 14,
     "metadata": {},
     "output_type": "execute_result"
    }
   ],
   "source": [
    "config['input_size'][1:]"
   ]
  },
  {
   "cell_type": "code",
   "execution_count": 15,
   "id": "f129df75-5bdd-4f73-a78c-8bdad2779b21",
   "metadata": {},
   "outputs": [
    {
     "data": {
      "text/html": [
       "<pre style=\"white-space:pre;overflow-x:auto;line-height:normal;font-family:Menlo,'DejaVu Sans Mono',consolas,'Courier New',monospace\">📄 <span style=\"font-weight: bold\">Document</span>: <span style=\"color: #008080; text-decoration-color: #008080\">5d4278eede2d585a82542ee2d3eb6105</span>\n",
       "╭────────────┬─────────────────────────────────────────────────────────────────╮\n",
       "│<span style=\"font-weight: bold\"> Attribute  </span>│<span style=\"font-weight: bold\"> Value                                                           </span>│\n",
       "├────────────┼─────────────────────────────────────────────────────────────────┤\n",
       "│ tensor     │ <span style=\"font-weight: bold\">&lt;</span><span style=\"color: #ff00ff; text-decoration-color: #ff00ff; font-weight: bold\">class</span><span style=\"color: #000000; text-decoration-color: #000000\"> </span><span style=\"color: #008000; text-decoration-color: #008000\">'numpy.ndarray'</span><span style=\"font-weight: bold\">&gt;</span> in shape <span style=\"font-weight: bold\">(</span><span style=\"color: #008080; text-decoration-color: #008080; font-weight: bold\">224</span>, <span style=\"color: #008080; text-decoration-color: #008080; font-weight: bold\">224</span>, <span style=\"color: #008080; text-decoration-color: #008080; font-weight: bold\">3</span><span style=\"font-weight: bold\">)</span>, dtype: float32  │\n",
       "│ mime_type  │ image/jpeg                                                      │\n",
       "│ uri        │ ..<span style=\"color: #800080; text-decoration-color: #800080\">/data/</span><span style=\"color: #ff00ff; text-decoration-color: #ff00ff\">images</span>\\<span style=\"color: #008080; text-decoration-color: #008080; font-weight: bold\">1296015.j</span>pg                                      │\n",
       "╰────────────┴─────────────────────────────────────────────────────────────────╯\n",
       "</pre>\n"
      ],
      "text/plain": [
       "📄 \u001b[1mDocument\u001b[0m: \u001b[36m5d4278eede2d585a82542ee2d3eb6105\u001b[0m\n",
       "╭────────────┬─────────────────────────────────────────────────────────────────╮\n",
       "│\u001b[1m \u001b[0m\u001b[1mAttribute \u001b[0m\u001b[1m \u001b[0m│\u001b[1m \u001b[0m\u001b[1mValue                                                          \u001b[0m\u001b[1m \u001b[0m│\n",
       "├────────────┼─────────────────────────────────────────────────────────────────┤\n",
       "│ tensor     │ \u001b[1m<\u001b[0m\u001b[1;95mclass\u001b[0m\u001b[39m \u001b[0m\u001b[32m'numpy.ndarray'\u001b[0m\u001b[1m>\u001b[0m in shape \u001b[1m(\u001b[0m\u001b[1;36m224\u001b[0m, \u001b[1;36m224\u001b[0m, \u001b[1;36m3\u001b[0m\u001b[1m)\u001b[0m, dtype: float32  │\n",
       "│ mime_type  │ image/jpeg                                                      │\n",
       "│ uri        │ ..\u001b[35m/data/\u001b[0m\u001b[95mimages\u001b[0m\\\u001b[1;36m1296015.j\u001b[0mpg                                      │\n",
       "╰────────────┴─────────────────────────────────────────────────────────────────╯\n"
      ]
     },
     "metadata": {},
     "output_type": "display_data"
    }
   ],
   "source": [
    "da[0].load_uri_to_image_tensor().set_image_tensor_shape(shape=(224, 224)).set_image_tensor_normalization()"
   ]
  },
  {
   "cell_type": "code",
   "execution_count": 16,
   "id": "b94fdaba-ae1b-4b84-b98e-19e1f4c2b6b3",
   "metadata": {},
   "outputs": [
    {
     "data": {
      "text/plain": [
       "(224, 224, 3)"
      ]
     },
     "execution_count": 16,
     "metadata": {},
     "output_type": "execute_result"
    }
   ],
   "source": [
    "da[0].tensor.shape"
   ]
  },
  {
   "cell_type": "code",
   "execution_count": 17,
   "id": "2b8b3eb3-b1c5-48df-a197-c8b690ba6f5d",
   "metadata": {},
   "outputs": [],
   "source": [
    "def preproc(d: Document):\n",
    "    return (\n",
    "        d.load_uri_to_image_tensor()  # load\n",
    "        .set_image_tensor_shape(shape=(224, 224))\n",
    "        .set_image_tensor_normalization()  # normalize color\n",
    "        .set_image_tensor_channel_axis(-1, 0)\n",
    "    )"
   ]
  },
  {
   "cell_type": "code",
   "execution_count": 18,
   "id": "02292b9a-8008-4979-97cb-d4540c1a4c17",
   "metadata": {},
   "outputs": [
    {
     "data": {
      "text/html": [
       "<pre style=\"white-space:pre;overflow-x:auto;line-height:normal;font-family:Menlo,'DejaVu Sans Mono',consolas,'Courier New',monospace\">\n",
       "</pre>\n"
      ],
      "text/plain": [
       "\n"
      ]
     },
     "metadata": {},
     "output_type": "display_data"
    },
    {
     "data": {
      "text/html": [
       "<pre style=\"white-space:pre;overflow-x:auto;line-height:normal;font-family:Menlo,'DejaVu Sans Mono',consolas,'Courier New',monospace\">╭─────────────────────── Documents Summary ───────────────────────╮\n",
       "│                                                                 │\n",
       "│   Type                   DocumentArrayInMemory                  │\n",
       "│   Length                 <span style=\"color: #008080; text-decoration-color: #008080; font-weight: bold\">48</span>                                     │\n",
       "│   Homogenous Documents   <span style=\"color: #00ff00; text-decoration-color: #00ff00; font-style: italic\">True</span>                                   │\n",
       "│   Common Attributes      <span style=\"font-weight: bold\">(</span><span style=\"color: #008000; text-decoration-color: #008000\">'id'</span>, <span style=\"color: #008000; text-decoration-color: #008000\">'tensor'</span>, <span style=\"color: #008000; text-decoration-color: #008000\">'mime_type'</span>, <span style=\"color: #008000; text-decoration-color: #008000\">'uri'</span><span style=\"font-weight: bold\">)</span>   │\n",
       "│   Multimodal dataclass   <span style=\"color: #ff0000; text-decoration-color: #ff0000; font-style: italic\">False</span>                                  │\n",
       "│                                                                 │\n",
       "╰─────────────────────────────────────────────────────────────────╯\n",
       "╭────────────────────── Attributes Summary ───────────────────────╮\n",
       "│                                                                 │\n",
       "│  <span style=\"font-weight: bold\"> Attribute </span> <span style=\"font-weight: bold\"> Data type    </span> <span style=\"font-weight: bold\"> #Unique values </span> <span style=\"font-weight: bold\"> Has empty value </span>  │\n",
       "│  ─────────────────────────────────────────────────────────────  │\n",
       "│   id          <span style=\"font-weight: bold\">(</span><span style=\"color: #008000; text-decoration-color: #008000\">'str'</span>,<span style=\"font-weight: bold\">)</span>       <span style=\"color: #008080; text-decoration-color: #008080; font-weight: bold\">48</span>               <span style=\"color: #ff0000; text-decoration-color: #ff0000; font-style: italic\">False</span>             │\n",
       "│   mime_type   <span style=\"font-weight: bold\">(</span><span style=\"color: #008000; text-decoration-color: #008000\">'str'</span>,<span style=\"font-weight: bold\">)</span>       <span style=\"color: #008080; text-decoration-color: #008080; font-weight: bold\">1</span>                <span style=\"color: #ff0000; text-decoration-color: #ff0000; font-style: italic\">False</span>             │\n",
       "│   tensor      <span style=\"font-weight: bold\">(</span><span style=\"color: #008000; text-decoration-color: #008000\">'ndarray'</span>,<span style=\"font-weight: bold\">)</span>   <span style=\"color: #008080; text-decoration-color: #008080; font-weight: bold\">48</span>               <span style=\"color: #ff0000; text-decoration-color: #ff0000; font-style: italic\">False</span>             │\n",
       "│   uri         <span style=\"font-weight: bold\">(</span><span style=\"color: #008000; text-decoration-color: #008000\">'str'</span>,<span style=\"font-weight: bold\">)</span>       <span style=\"color: #008080; text-decoration-color: #008080; font-weight: bold\">48</span>               <span style=\"color: #ff0000; text-decoration-color: #ff0000; font-style: italic\">False</span>             │\n",
       "│                                                                 │\n",
       "╰─────────────────────────────────────────────────────────────────╯\n",
       "</pre>\n"
      ],
      "text/plain": [
       "╭─────────────────────── Documents Summary ───────────────────────╮\n",
       "│                                                                 │\n",
       "│   Type                   DocumentArrayInMemory                  │\n",
       "│   Length                 \u001b[1;36m48\u001b[0m                                     │\n",
       "│   Homogenous Documents   \u001b[3;92mTrue\u001b[0m                                   │\n",
       "│   Common Attributes      \u001b[1m(\u001b[0m\u001b[32m'id'\u001b[0m, \u001b[32m'tensor'\u001b[0m, \u001b[32m'mime_type'\u001b[0m, \u001b[32m'uri'\u001b[0m\u001b[1m)\u001b[0m   │\n",
       "│   Multimodal dataclass   \u001b[3;91mFalse\u001b[0m                                  │\n",
       "│                                                                 │\n",
       "╰─────────────────────────────────────────────────────────────────╯\n",
       "╭────────────────────── Attributes Summary ───────────────────────╮\n",
       "│                                                                 │\n",
       "│  \u001b[1m \u001b[0m\u001b[1mAttribute\u001b[0m\u001b[1m \u001b[0m \u001b[1m \u001b[0m\u001b[1mData type   \u001b[0m\u001b[1m \u001b[0m \u001b[1m \u001b[0m\u001b[1m#Unique values\u001b[0m\u001b[1m \u001b[0m \u001b[1m \u001b[0m\u001b[1mHas empty value\u001b[0m\u001b[1m \u001b[0m  │\n",
       "│  ─────────────────────────────────────────────────────────────  │\n",
       "│   id          \u001b[1m(\u001b[0m\u001b[32m'str'\u001b[0m,\u001b[1m)\u001b[0m       \u001b[1;36m48\u001b[0m               \u001b[3;91mFalse\u001b[0m             │\n",
       "│   mime_type   \u001b[1m(\u001b[0m\u001b[32m'str'\u001b[0m,\u001b[1m)\u001b[0m       \u001b[1;36m1\u001b[0m                \u001b[3;91mFalse\u001b[0m             │\n",
       "│   tensor      \u001b[1m(\u001b[0m\u001b[32m'ndarray'\u001b[0m,\u001b[1m)\u001b[0m   \u001b[1;36m48\u001b[0m               \u001b[3;91mFalse\u001b[0m             │\n",
       "│   uri         \u001b[1m(\u001b[0m\u001b[32m'str'\u001b[0m,\u001b[1m)\u001b[0m       \u001b[1;36m48\u001b[0m               \u001b[3;91mFalse\u001b[0m             │\n",
       "│                                                                 │\n",
       "╰─────────────────────────────────────────────────────────────────╯\n"
      ]
     },
     "metadata": {},
     "output_type": "display_data"
    }
   ],
   "source": [
    "da.apply(preproc)"
   ]
  },
  {
   "cell_type": "code",
   "execution_count": 19,
   "id": "9324fabe-ef56-4586-858e-6e713b32c307",
   "metadata": {},
   "outputs": [
    {
     "data": {
      "text/plain": [
       "(3, 224, 224)"
      ]
     },
     "execution_count": 19,
     "metadata": {},
     "output_type": "execute_result"
    }
   ],
   "source": [
    "da[0].tensor.shape"
   ]
  },
  {
   "cell_type": "code",
   "execution_count": 20,
   "id": "ad3d025d-68ef-4e60-a17f-3a2ea72621ba",
   "metadata": {},
   "outputs": [
    {
     "data": {
      "text/html": [
       "<pre style=\"white-space:pre;overflow-x:auto;line-height:normal;font-family:Menlo,'DejaVu Sans Mono',consolas,'Courier New',monospace\">╭───────────────────────────── Documents Summary ──────────────────────────────╮\n",
       "│                                                                              │\n",
       "│   Type                   DocumentArrayInMemory                               │\n",
       "│   Length                 <span style=\"color: #008080; text-decoration-color: #008080; font-weight: bold\">48</span>                                                  │\n",
       "│   Homogenous Documents   <span style=\"color: #00ff00; text-decoration-color: #00ff00; font-style: italic\">True</span>                                                │\n",
       "│   Common Attributes      <span style=\"font-weight: bold\">(</span><span style=\"color: #008000; text-decoration-color: #008000\">'id'</span>, <span style=\"color: #008000; text-decoration-color: #008000\">'tensor'</span>, <span style=\"color: #008000; text-decoration-color: #008000\">'mime_type'</span>, <span style=\"color: #008000; text-decoration-color: #008000\">'uri'</span>, <span style=\"color: #008000; text-decoration-color: #008000\">'embedding'</span><span style=\"font-weight: bold\">)</span>   │\n",
       "│   Multimodal dataclass   <span style=\"color: #ff0000; text-decoration-color: #ff0000; font-style: italic\">False</span>                                               │\n",
       "│                                                                              │\n",
       "╰──────────────────────────────────────────────────────────────────────────────╯\n",
       "╭────────────────────── Attributes Summary ───────────────────────╮\n",
       "│                                                                 │\n",
       "│  <span style=\"font-weight: bold\"> Attribute </span> <span style=\"font-weight: bold\"> Data type    </span> <span style=\"font-weight: bold\"> #Unique values </span> <span style=\"font-weight: bold\"> Has empty value </span>  │\n",
       "│  ─────────────────────────────────────────────────────────────  │\n",
       "│   embedding   <span style=\"font-weight: bold\">(</span><span style=\"color: #008000; text-decoration-color: #008000\">'Tensor'</span>,<span style=\"font-weight: bold\">)</span>    <span style=\"color: #008080; text-decoration-color: #008080; font-weight: bold\">48</span>               <span style=\"color: #ff0000; text-decoration-color: #ff0000; font-style: italic\">False</span>             │\n",
       "│   id          <span style=\"font-weight: bold\">(</span><span style=\"color: #008000; text-decoration-color: #008000\">'str'</span>,<span style=\"font-weight: bold\">)</span>       <span style=\"color: #008080; text-decoration-color: #008080; font-weight: bold\">48</span>               <span style=\"color: #ff0000; text-decoration-color: #ff0000; font-style: italic\">False</span>             │\n",
       "│   mime_type   <span style=\"font-weight: bold\">(</span><span style=\"color: #008000; text-decoration-color: #008000\">'str'</span>,<span style=\"font-weight: bold\">)</span>       <span style=\"color: #008080; text-decoration-color: #008080; font-weight: bold\">1</span>                <span style=\"color: #ff0000; text-decoration-color: #ff0000; font-style: italic\">False</span>             │\n",
       "│   tensor      <span style=\"font-weight: bold\">(</span><span style=\"color: #008000; text-decoration-color: #008000\">'ndarray'</span>,<span style=\"font-weight: bold\">)</span>   <span style=\"color: #008080; text-decoration-color: #008080; font-weight: bold\">48</span>               <span style=\"color: #ff0000; text-decoration-color: #ff0000; font-style: italic\">False</span>             │\n",
       "│   uri         <span style=\"font-weight: bold\">(</span><span style=\"color: #008000; text-decoration-color: #008000\">'str'</span>,<span style=\"font-weight: bold\">)</span>       <span style=\"color: #008080; text-decoration-color: #008080; font-weight: bold\">48</span>               <span style=\"color: #ff0000; text-decoration-color: #ff0000; font-style: italic\">False</span>             │\n",
       "│                                                                 │\n",
       "╰─────────────────────────────────────────────────────────────────╯\n",
       "</pre>\n"
      ],
      "text/plain": [
       "╭───────────────────────────── Documents Summary ──────────────────────────────╮\n",
       "│                                                                              │\n",
       "│   Type                   DocumentArrayInMemory                               │\n",
       "│   Length                 \u001b[1;36m48\u001b[0m                                                  │\n",
       "│   Homogenous Documents   \u001b[3;92mTrue\u001b[0m                                                │\n",
       "│   Common Attributes      \u001b[1m(\u001b[0m\u001b[32m'id'\u001b[0m, \u001b[32m'tensor'\u001b[0m, \u001b[32m'mime_type'\u001b[0m, \u001b[32m'uri'\u001b[0m, \u001b[32m'embedding'\u001b[0m\u001b[1m)\u001b[0m   │\n",
       "│   Multimodal dataclass   \u001b[3;91mFalse\u001b[0m                                               │\n",
       "│                                                                              │\n",
       "╰──────────────────────────────────────────────────────────────────────────────╯\n",
       "╭────────────────────── Attributes Summary ───────────────────────╮\n",
       "│                                                                 │\n",
       "│  \u001b[1m \u001b[0m\u001b[1mAttribute\u001b[0m\u001b[1m \u001b[0m \u001b[1m \u001b[0m\u001b[1mData type   \u001b[0m\u001b[1m \u001b[0m \u001b[1m \u001b[0m\u001b[1m#Unique values\u001b[0m\u001b[1m \u001b[0m \u001b[1m \u001b[0m\u001b[1mHas empty value\u001b[0m\u001b[1m \u001b[0m  │\n",
       "│  ─────────────────────────────────────────────────────────────  │\n",
       "│   embedding   \u001b[1m(\u001b[0m\u001b[32m'Tensor'\u001b[0m,\u001b[1m)\u001b[0m    \u001b[1;36m48\u001b[0m               \u001b[3;91mFalse\u001b[0m             │\n",
       "│   id          \u001b[1m(\u001b[0m\u001b[32m'str'\u001b[0m,\u001b[1m)\u001b[0m       \u001b[1;36m48\u001b[0m               \u001b[3;91mFalse\u001b[0m             │\n",
       "│   mime_type   \u001b[1m(\u001b[0m\u001b[32m'str'\u001b[0m,\u001b[1m)\u001b[0m       \u001b[1;36m1\u001b[0m                \u001b[3;91mFalse\u001b[0m             │\n",
       "│   tensor      \u001b[1m(\u001b[0m\u001b[32m'ndarray'\u001b[0m,\u001b[1m)\u001b[0m   \u001b[1;36m48\u001b[0m               \u001b[3;91mFalse\u001b[0m             │\n",
       "│   uri         \u001b[1m(\u001b[0m\u001b[32m'str'\u001b[0m,\u001b[1m)\u001b[0m       \u001b[1;36m48\u001b[0m               \u001b[3;91mFalse\u001b[0m             │\n",
       "│                                                                 │\n",
       "╰─────────────────────────────────────────────────────────────────╯\n"
      ]
     },
     "metadata": {},
     "output_type": "display_data"
    }
   ],
   "source": [
    "da.embed(model)"
   ]
  },
  {
   "cell_type": "code",
   "execution_count": 21,
   "id": "42b3470c-2d54-44ce-88ab-97a8ad907934",
   "metadata": {},
   "outputs": [
    {
     "data": {
      "text/plain": [
       "tensor([[ 0.2896,  0.4548,  0.4600,  ..., -0.2828, -0.3103, -0.0508],\n",
       "        [-0.2009,  0.3138, -0.3027,  ...,  0.5575,  1.0264, -0.3652],\n",
       "        [ 0.4669, -0.2685, -0.3247,  ..., -0.3737,  1.7443,  0.2583],\n",
       "        ...,\n",
       "        [ 0.6113,  0.5803,  0.2144,  ...,  0.3690, -0.0207,  0.0458],\n",
       "        [ 0.0876, -0.2452, -0.1533,  ..., -0.2297,  0.6221, -0.1041],\n",
       "        [-0.2123, -0.3714, -0.2599,  ..., -0.3669,  0.5702, -0.3255]])"
      ]
     },
     "execution_count": 21,
     "metadata": {},
     "output_type": "execute_result"
    }
   ],
   "source": [
    "da.embeddings"
   ]
  },
  {
   "cell_type": "code",
   "execution_count": 22,
   "id": "15fd1cf4-4313-4ccc-9fb5-d521f5e28fb6",
   "metadata": {},
   "outputs": [],
   "source": [
    "import umap"
   ]
  },
  {
   "cell_type": "code",
   "execution_count": 48,
   "id": "71a57d83-5860-4f2a-9cb5-6fded797c7f3",
   "metadata": {},
   "outputs": [],
   "source": [
    "umap_proj = umap.UMAP(n_neighbors=15, min_dist=0.01, metric='correlation').fit_transform(da.embeddings)"
   ]
  },
  {
   "cell_type": "code",
   "execution_count": 49,
   "id": "3effda19-0200-49c8-8669-85ccb7a938b9",
   "metadata": {},
   "outputs": [
    {
     "data": {
      "text/plain": [
       "(48, 2)"
      ]
     },
     "execution_count": 49,
     "metadata": {},
     "output_type": "execute_result"
    }
   ],
   "source": [
    "umap_proj.shape"
   ]
  },
  {
   "cell_type": "code",
   "execution_count": 50,
   "id": "930dd2a9-fc9b-49c7-9bd9-cf17cea86c25",
   "metadata": {},
   "outputs": [
    {
     "data": {
      "text/plain": [
       "array([-0.03310011,  2.1810837 ], dtype=float32)"
      ]
     },
     "execution_count": 50,
     "metadata": {},
     "output_type": "execute_result"
    }
   ],
   "source": [
    "umap_proj[0]"
   ]
  },
  {
   "cell_type": "code",
   "execution_count": 51,
   "id": "c316d5aa-40ac-41d5-88d0-327bc13c9026",
   "metadata": {},
   "outputs": [],
   "source": [
    "for d, coord in zip(da, umap_proj):\n",
    "    d.tags['umap_proj_x'] = coord[0]\n",
    "    d.tags['umap_proj_y'] = coord[1]"
   ]
  },
  {
   "cell_type": "code",
   "execution_count": 53,
   "id": "47bb83ef-e5ab-4eed-a5f3-5f6a8427adbe",
   "metadata": {},
   "outputs": [
    {
     "data": {
      "text/html": [
       "<div>\n",
       "<style scoped>\n",
       "    .dataframe tbody tr th:only-of-type {\n",
       "        vertical-align: middle;\n",
       "    }\n",
       "\n",
       "    .dataframe tbody tr th {\n",
       "        vertical-align: top;\n",
       "    }\n",
       "\n",
       "    .dataframe thead th {\n",
       "        text-align: right;\n",
       "    }\n",
       "</style>\n",
       "<table border=\"1\" class=\"dataframe\">\n",
       "  <thead>\n",
       "    <tr style=\"text-align: right;\">\n",
       "      <th></th>\n",
       "      <th>title</th>\n",
       "      <th>page_url</th>\n",
       "      <th>image_url</th>\n",
       "    </tr>\n",
       "  </thead>\n",
       "  <tbody>\n",
       "    <tr>\n",
       "      <th>0</th>\n",
       "      <td>German police and auxiliaries in civilian clot...</td>\n",
       "      <td>https://collections.ushmm.org/search/catalog/p...</td>\n",
       "      <td>https://collections.ushmm.org/iiif-b/assets/th...</td>\n",
       "    </tr>\n",
       "  </tbody>\n",
       "</table>\n",
       "</div>"
      ],
      "text/plain": [
       "                                               title  \\\n",
       "0  German police and auxiliaries in civilian clot...   \n",
       "\n",
       "                                            page_url  \\\n",
       "0  https://collections.ushmm.org/search/catalog/p...   \n",
       "\n",
       "                                           image_url  \n",
       "0  https://collections.ushmm.org/iiif-b/assets/th...  "
      ]
     },
     "execution_count": 53,
     "metadata": {},
     "output_type": "execute_result"
    }
   ],
   "source": [
    "df = pd.DataFrame(image_data, columns=[\"title\", \"page_url\", \"image_url\"])\n",
    "df.head(1)"
   ]
  },
  {
   "cell_type": "code",
   "execution_count": 63,
   "id": "a512f8ff-1e37-4325-87d3-d432de560d58",
   "metadata": {},
   "outputs": [],
   "source": [
    "# Apply coordinates\n",
    "df['x'] = umap_proj[:, 0]\n",
    "df['y'] = umap_proj[:, 1]"
   ]
  },
  {
   "cell_type": "code",
   "execution_count": 64,
   "id": "2777cf6f-ffd0-4aaa-a878-2c70bd1e7a8e",
   "metadata": {},
   "outputs": [
    {
     "data": {
      "text/html": [
       "<div>\n",
       "<style scoped>\n",
       "    .dataframe tbody tr th:only-of-type {\n",
       "        vertical-align: middle;\n",
       "    }\n",
       "\n",
       "    .dataframe tbody tr th {\n",
       "        vertical-align: top;\n",
       "    }\n",
       "\n",
       "    .dataframe thead th {\n",
       "        text-align: right;\n",
       "    }\n",
       "</style>\n",
       "<table border=\"1\" class=\"dataframe\">\n",
       "  <thead>\n",
       "    <tr style=\"text-align: right;\">\n",
       "      <th></th>\n",
       "      <th>title</th>\n",
       "      <th>page_url</th>\n",
       "      <th>image_url</th>\n",
       "      <th>x</th>\n",
       "      <th>y</th>\n",
       "    </tr>\n",
       "  </thead>\n",
       "  <tbody>\n",
       "    <tr>\n",
       "      <th>0</th>\n",
       "      <td>German police and auxiliaries in civilian clot...</td>\n",
       "      <td>https://collections.ushmm.org/search/catalog/p...</td>\n",
       "      <td>https://collections.ushmm.org/iiif-b/assets/th...</td>\n",
       "      <td>-0.033100</td>\n",
       "      <td>2.181084</td>\n",
       "    </tr>\n",
       "    <tr>\n",
       "      <th>1</th>\n",
       "      <td>A sign marking a mass grave in Bergen-Belsen.</td>\n",
       "      <td>https://collections.ushmm.org/search/catalog/p...</td>\n",
       "      <td>https://collections.ushmm.org/iiif-b/assets/th...</td>\n",
       "      <td>-0.039753</td>\n",
       "      <td>4.018694</td>\n",
       "    </tr>\n",
       "  </tbody>\n",
       "</table>\n",
       "</div>"
      ],
      "text/plain": [
       "                                               title  \\\n",
       "0  German police and auxiliaries in civilian clot...   \n",
       "1      A sign marking a mass grave in Bergen-Belsen.   \n",
       "\n",
       "                                            page_url  \\\n",
       "0  https://collections.ushmm.org/search/catalog/p...   \n",
       "1  https://collections.ushmm.org/search/catalog/p...   \n",
       "\n",
       "                                           image_url         x         y  \n",
       "0  https://collections.ushmm.org/iiif-b/assets/th... -0.033100  2.181084  \n",
       "1  https://collections.ushmm.org/iiif-b/assets/th... -0.039753  4.018694  "
      ]
     },
     "execution_count": 64,
     "metadata": {},
     "output_type": "execute_result"
    }
   ],
   "source": [
    "df.head(2)"
   ]
  },
  {
   "cell_type": "code",
   "execution_count": 65,
   "id": "4011c87e-3c1c-461c-93bc-4685bfe203e5",
   "metadata": {},
   "outputs": [],
   "source": [
    "output_file = \"../data/ushmm_test_coords.csv\"\n",
    "df.to_csv(output_file, index=False)"
   ]
  },
  {
   "cell_type": "markdown",
   "id": "a4b615ef-ac21-48d8-b471-ca2ebb4eb114",
   "metadata": {},
   "source": [
    "## Visualizing our Clusters"
   ]
  },
  {
   "cell_type": "code",
   "execution_count": 28,
   "id": "2a398f1c-e1ea-4809-a661-fe7b4239c578",
   "metadata": {},
   "outputs": [],
   "source": [
    "from bokeh.io import curdoc\n",
    "from bokeh.layouts import column, row\n",
    "from bokeh.models import (Button, ColumnDataSource, DataTable, TableColumn, TextInput)\n",
    "from bokeh.plotting import figure, show\n",
    "from bokeh.models import DataTable, TableColumn, ColorBar, HTMLTemplateFormatter, Spinner, RangeSlider\n",
    "from bokeh.io import output_notebook\n",
    "from bokeh.application import Application\n",
    "from bokeh.application.handlers import FunctionHandler\n",
    "import numpy as np"
   ]
  },
  {
   "cell_type": "code",
   "execution_count": 29,
   "id": "83799375-65f8-47b7-9cf4-0006fc04c1d2",
   "metadata": {},
   "outputs": [
    {
     "data": {
      "text/html": [
       "<div class=\"bk-root\">\n",
       "        <a href=\"https://bokeh.org\" target=\"_blank\" class=\"bk-logo bk-logo-small bk-logo-notebook\"></a>\n",
       "        <span id=\"1002\">Loading BokehJS ...</span>\n",
       "    </div>\n"
      ]
     },
     "metadata": {},
     "output_type": "display_data"
    },
    {
     "data": {
      "application/javascript": [
       "(function(root) {\n",
       "  function now() {\n",
       "    return new Date();\n",
       "  }\n",
       "\n",
       "  const force = true;\n",
       "\n",
       "  if (typeof root._bokeh_onload_callbacks === \"undefined\" || force === true) {\n",
       "    root._bokeh_onload_callbacks = [];\n",
       "    root._bokeh_is_loading = undefined;\n",
       "  }\n",
       "\n",
       "const JS_MIME_TYPE = 'application/javascript';\n",
       "  const HTML_MIME_TYPE = 'text/html';\n",
       "  const EXEC_MIME_TYPE = 'application/vnd.bokehjs_exec.v0+json';\n",
       "  const CLASS_NAME = 'output_bokeh rendered_html';\n",
       "\n",
       "  /**\n",
       "   * Render data to the DOM node\n",
       "   */\n",
       "  function render(props, node) {\n",
       "    const script = document.createElement(\"script\");\n",
       "    node.appendChild(script);\n",
       "  }\n",
       "\n",
       "  /**\n",
       "   * Handle when an output is cleared or removed\n",
       "   */\n",
       "  function handleClearOutput(event, handle) {\n",
       "    const cell = handle.cell;\n",
       "\n",
       "    const id = cell.output_area._bokeh_element_id;\n",
       "    const server_id = cell.output_area._bokeh_server_id;\n",
       "    // Clean up Bokeh references\n",
       "    if (id != null && id in Bokeh.index) {\n",
       "      Bokeh.index[id].model.document.clear();\n",
       "      delete Bokeh.index[id];\n",
       "    }\n",
       "\n",
       "    if (server_id !== undefined) {\n",
       "      // Clean up Bokeh references\n",
       "      const cmd_clean = \"from bokeh.io.state import curstate; print(curstate().uuid_to_server['\" + server_id + \"'].get_sessions()[0].document.roots[0]._id)\";\n",
       "      cell.notebook.kernel.execute(cmd_clean, {\n",
       "        iopub: {\n",
       "          output: function(msg) {\n",
       "            const id = msg.content.text.trim();\n",
       "            if (id in Bokeh.index) {\n",
       "              Bokeh.index[id].model.document.clear();\n",
       "              delete Bokeh.index[id];\n",
       "            }\n",
       "          }\n",
       "        }\n",
       "      });\n",
       "      // Destroy server and session\n",
       "      const cmd_destroy = \"import bokeh.io.notebook as ion; ion.destroy_server('\" + server_id + \"')\";\n",
       "      cell.notebook.kernel.execute(cmd_destroy);\n",
       "    }\n",
       "  }\n",
       "\n",
       "  /**\n",
       "   * Handle when a new output is added\n",
       "   */\n",
       "  function handleAddOutput(event, handle) {\n",
       "    const output_area = handle.output_area;\n",
       "    const output = handle.output;\n",
       "\n",
       "    // limit handleAddOutput to display_data with EXEC_MIME_TYPE content only\n",
       "    if ((output.output_type != \"display_data\") || (!Object.prototype.hasOwnProperty.call(output.data, EXEC_MIME_TYPE))) {\n",
       "      return\n",
       "    }\n",
       "\n",
       "    const toinsert = output_area.element.find(\".\" + CLASS_NAME.split(' ')[0]);\n",
       "\n",
       "    if (output.metadata[EXEC_MIME_TYPE][\"id\"] !== undefined) {\n",
       "      toinsert[toinsert.length - 1].firstChild.textContent = output.data[JS_MIME_TYPE];\n",
       "      // store reference to embed id on output_area\n",
       "      output_area._bokeh_element_id = output.metadata[EXEC_MIME_TYPE][\"id\"];\n",
       "    }\n",
       "    if (output.metadata[EXEC_MIME_TYPE][\"server_id\"] !== undefined) {\n",
       "      const bk_div = document.createElement(\"div\");\n",
       "      bk_div.innerHTML = output.data[HTML_MIME_TYPE];\n",
       "      const script_attrs = bk_div.children[0].attributes;\n",
       "      for (let i = 0; i < script_attrs.length; i++) {\n",
       "        toinsert[toinsert.length - 1].firstChild.setAttribute(script_attrs[i].name, script_attrs[i].value);\n",
       "        toinsert[toinsert.length - 1].firstChild.textContent = bk_div.children[0].textContent\n",
       "      }\n",
       "      // store reference to server id on output_area\n",
       "      output_area._bokeh_server_id = output.metadata[EXEC_MIME_TYPE][\"server_id\"];\n",
       "    }\n",
       "  }\n",
       "\n",
       "  function register_renderer(events, OutputArea) {\n",
       "\n",
       "    function append_mime(data, metadata, element) {\n",
       "      // create a DOM node to render to\n",
       "      const toinsert = this.create_output_subarea(\n",
       "        metadata,\n",
       "        CLASS_NAME,\n",
       "        EXEC_MIME_TYPE\n",
       "      );\n",
       "      this.keyboard_manager.register_events(toinsert);\n",
       "      // Render to node\n",
       "      const props = {data: data, metadata: metadata[EXEC_MIME_TYPE]};\n",
       "      render(props, toinsert[toinsert.length - 1]);\n",
       "      element.append(toinsert);\n",
       "      return toinsert\n",
       "    }\n",
       "\n",
       "    /* Handle when an output is cleared or removed */\n",
       "    events.on('clear_output.CodeCell', handleClearOutput);\n",
       "    events.on('delete.Cell', handleClearOutput);\n",
       "\n",
       "    /* Handle when a new output is added */\n",
       "    events.on('output_added.OutputArea', handleAddOutput);\n",
       "\n",
       "    /**\n",
       "     * Register the mime type and append_mime function with output_area\n",
       "     */\n",
       "    OutputArea.prototype.register_mime_type(EXEC_MIME_TYPE, append_mime, {\n",
       "      /* Is output safe? */\n",
       "      safe: true,\n",
       "      /* Index of renderer in `output_area.display_order` */\n",
       "      index: 0\n",
       "    });\n",
       "  }\n",
       "\n",
       "  // register the mime type if in Jupyter Notebook environment and previously unregistered\n",
       "  if (root.Jupyter !== undefined) {\n",
       "    const events = require('base/js/events');\n",
       "    const OutputArea = require('notebook/js/outputarea').OutputArea;\n",
       "\n",
       "    if (OutputArea.prototype.mime_types().indexOf(EXEC_MIME_TYPE) == -1) {\n",
       "      register_renderer(events, OutputArea);\n",
       "    }\n",
       "  }\n",
       "  if (typeof (root._bokeh_timeout) === \"undefined\" || force === true) {\n",
       "    root._bokeh_timeout = Date.now() + 5000;\n",
       "    root._bokeh_failed_load = false;\n",
       "  }\n",
       "\n",
       "  const NB_LOAD_WARNING = {'data': {'text/html':\n",
       "     \"<div style='background-color: #fdd'>\\n\"+\n",
       "     \"<p>\\n\"+\n",
       "     \"BokehJS does not appear to have successfully loaded. If loading BokehJS from CDN, this \\n\"+\n",
       "     \"may be due to a slow or bad network connection. Possible fixes:\\n\"+\n",
       "     \"</p>\\n\"+\n",
       "     \"<ul>\\n\"+\n",
       "     \"<li>re-rerun `output_notebook()` to attempt to load from CDN again, or</li>\\n\"+\n",
       "     \"<li>use INLINE resources instead, as so:</li>\\n\"+\n",
       "     \"</ul>\\n\"+\n",
       "     \"<code>\\n\"+\n",
       "     \"from bokeh.resources import INLINE\\n\"+\n",
       "     \"output_notebook(resources=INLINE)\\n\"+\n",
       "     \"</code>\\n\"+\n",
       "     \"</div>\"}};\n",
       "\n",
       "  function display_loaded() {\n",
       "    const el = document.getElementById(\"1002\");\n",
       "    if (el != null) {\n",
       "      el.textContent = \"BokehJS is loading...\";\n",
       "    }\n",
       "    if (root.Bokeh !== undefined) {\n",
       "      if (el != null) {\n",
       "        el.textContent = \"BokehJS \" + root.Bokeh.version + \" successfully loaded.\";\n",
       "      }\n",
       "    } else if (Date.now() < root._bokeh_timeout) {\n",
       "      setTimeout(display_loaded, 100)\n",
       "    }\n",
       "  }\n",
       "\n",
       "  function run_callbacks() {\n",
       "    try {\n",
       "      root._bokeh_onload_callbacks.forEach(function(callback) {\n",
       "        if (callback != null)\n",
       "          callback();\n",
       "      });\n",
       "    } finally {\n",
       "      delete root._bokeh_onload_callbacks\n",
       "    }\n",
       "    console.debug(\"Bokeh: all callbacks have finished\");\n",
       "  }\n",
       "\n",
       "  function load_libs(css_urls, js_urls, callback) {\n",
       "    if (css_urls == null) css_urls = [];\n",
       "    if (js_urls == null) js_urls = [];\n",
       "\n",
       "    root._bokeh_onload_callbacks.push(callback);\n",
       "    if (root._bokeh_is_loading > 0) {\n",
       "      console.debug(\"Bokeh: BokehJS is being loaded, scheduling callback at\", now());\n",
       "      return null;\n",
       "    }\n",
       "    if (js_urls == null || js_urls.length === 0) {\n",
       "      run_callbacks();\n",
       "      return null;\n",
       "    }\n",
       "    console.debug(\"Bokeh: BokehJS not loaded, scheduling load and callback at\", now());\n",
       "    root._bokeh_is_loading = css_urls.length + js_urls.length;\n",
       "\n",
       "    function on_load() {\n",
       "      root._bokeh_is_loading--;\n",
       "      if (root._bokeh_is_loading === 0) {\n",
       "        console.debug(\"Bokeh: all BokehJS libraries/stylesheets loaded\");\n",
       "        run_callbacks()\n",
       "      }\n",
       "    }\n",
       "\n",
       "    function on_error(url) {\n",
       "      console.error(\"failed to load \" + url);\n",
       "    }\n",
       "\n",
       "    for (let i = 0; i < css_urls.length; i++) {\n",
       "      const url = css_urls[i];\n",
       "      const element = document.createElement(\"link\");\n",
       "      element.onload = on_load;\n",
       "      element.onerror = on_error.bind(null, url);\n",
       "      element.rel = \"stylesheet\";\n",
       "      element.type = \"text/css\";\n",
       "      element.href = url;\n",
       "      console.debug(\"Bokeh: injecting link tag for BokehJS stylesheet: \", url);\n",
       "      document.body.appendChild(element);\n",
       "    }\n",
       "\n",
       "    for (let i = 0; i < js_urls.length; i++) {\n",
       "      const url = js_urls[i];\n",
       "      const element = document.createElement('script');\n",
       "      element.onload = on_load;\n",
       "      element.onerror = on_error.bind(null, url);\n",
       "      element.async = false;\n",
       "      element.src = url;\n",
       "      console.debug(\"Bokeh: injecting script tag for BokehJS library: \", url);\n",
       "      document.head.appendChild(element);\n",
       "    }\n",
       "  };\n",
       "\n",
       "  function inject_raw_css(css) {\n",
       "    const element = document.createElement(\"style\");\n",
       "    element.appendChild(document.createTextNode(css));\n",
       "    document.body.appendChild(element);\n",
       "  }\n",
       "\n",
       "  const js_urls = [\"https://cdn.bokeh.org/bokeh/release/bokeh-2.4.3.min.js\", \"https://cdn.bokeh.org/bokeh/release/bokeh-gl-2.4.3.min.js\", \"https://cdn.bokeh.org/bokeh/release/bokeh-widgets-2.4.3.min.js\", \"https://cdn.bokeh.org/bokeh/release/bokeh-tables-2.4.3.min.js\", \"https://cdn.bokeh.org/bokeh/release/bokeh-mathjax-2.4.3.min.js\"];\n",
       "  const css_urls = [];\n",
       "\n",
       "  const inline_js = [    function(Bokeh) {\n",
       "      Bokeh.set_log_level(\"info\");\n",
       "    },\n",
       "function(Bokeh) {\n",
       "    }\n",
       "  ];\n",
       "\n",
       "  function run_inline_js() {\n",
       "    if (root.Bokeh !== undefined || force === true) {\n",
       "          for (let i = 0; i < inline_js.length; i++) {\n",
       "      inline_js[i].call(root, root.Bokeh);\n",
       "    }\n",
       "if (force === true) {\n",
       "        display_loaded();\n",
       "      }} else if (Date.now() < root._bokeh_timeout) {\n",
       "      setTimeout(run_inline_js, 100);\n",
       "    } else if (!root._bokeh_failed_load) {\n",
       "      console.log(\"Bokeh: BokehJS failed to load within specified timeout.\");\n",
       "      root._bokeh_failed_load = true;\n",
       "    } else if (force !== true) {\n",
       "      const cell = $(document.getElementById(\"1002\")).parents('.cell').data().cell;\n",
       "      cell.output_area.append_execute_result(NB_LOAD_WARNING)\n",
       "    }\n",
       "  }\n",
       "\n",
       "  if (root._bokeh_is_loading === 0) {\n",
       "    console.debug(\"Bokeh: BokehJS loaded, going straight to plotting\");\n",
       "    run_inline_js();\n",
       "  } else {\n",
       "    load_libs(css_urls, js_urls, function() {\n",
       "      console.debug(\"Bokeh: BokehJS plotting callback run at\", now());\n",
       "      run_inline_js();\n",
       "    });\n",
       "  }\n",
       "}(window));"
      ],
      "application/vnd.bokehjs_load.v0+json": "(function(root) {\n  function now() {\n    return new Date();\n  }\n\n  const force = true;\n\n  if (typeof root._bokeh_onload_callbacks === \"undefined\" || force === true) {\n    root._bokeh_onload_callbacks = [];\n    root._bokeh_is_loading = undefined;\n  }\n\n\n  if (typeof (root._bokeh_timeout) === \"undefined\" || force === true) {\n    root._bokeh_timeout = Date.now() + 5000;\n    root._bokeh_failed_load = false;\n  }\n\n  const NB_LOAD_WARNING = {'data': {'text/html':\n     \"<div style='background-color: #fdd'>\\n\"+\n     \"<p>\\n\"+\n     \"BokehJS does not appear to have successfully loaded. If loading BokehJS from CDN, this \\n\"+\n     \"may be due to a slow or bad network connection. Possible fixes:\\n\"+\n     \"</p>\\n\"+\n     \"<ul>\\n\"+\n     \"<li>re-rerun `output_notebook()` to attempt to load from CDN again, or</li>\\n\"+\n     \"<li>use INLINE resources instead, as so:</li>\\n\"+\n     \"</ul>\\n\"+\n     \"<code>\\n\"+\n     \"from bokeh.resources import INLINE\\n\"+\n     \"output_notebook(resources=INLINE)\\n\"+\n     \"</code>\\n\"+\n     \"</div>\"}};\n\n  function display_loaded() {\n    const el = document.getElementById(\"1002\");\n    if (el != null) {\n      el.textContent = \"BokehJS is loading...\";\n    }\n    if (root.Bokeh !== undefined) {\n      if (el != null) {\n        el.textContent = \"BokehJS \" + root.Bokeh.version + \" successfully loaded.\";\n      }\n    } else if (Date.now() < root._bokeh_timeout) {\n      setTimeout(display_loaded, 100)\n    }\n  }\n\n  function run_callbacks() {\n    try {\n      root._bokeh_onload_callbacks.forEach(function(callback) {\n        if (callback != null)\n          callback();\n      });\n    } finally {\n      delete root._bokeh_onload_callbacks\n    }\n    console.debug(\"Bokeh: all callbacks have finished\");\n  }\n\n  function load_libs(css_urls, js_urls, callback) {\n    if (css_urls == null) css_urls = [];\n    if (js_urls == null) js_urls = [];\n\n    root._bokeh_onload_callbacks.push(callback);\n    if (root._bokeh_is_loading > 0) {\n      console.debug(\"Bokeh: BokehJS is being loaded, scheduling callback at\", now());\n      return null;\n    }\n    if (js_urls == null || js_urls.length === 0) {\n      run_callbacks();\n      return null;\n    }\n    console.debug(\"Bokeh: BokehJS not loaded, scheduling load and callback at\", now());\n    root._bokeh_is_loading = css_urls.length + js_urls.length;\n\n    function on_load() {\n      root._bokeh_is_loading--;\n      if (root._bokeh_is_loading === 0) {\n        console.debug(\"Bokeh: all BokehJS libraries/stylesheets loaded\");\n        run_callbacks()\n      }\n    }\n\n    function on_error(url) {\n      console.error(\"failed to load \" + url);\n    }\n\n    for (let i = 0; i < css_urls.length; i++) {\n      const url = css_urls[i];\n      const element = document.createElement(\"link\");\n      element.onload = on_load;\n      element.onerror = on_error.bind(null, url);\n      element.rel = \"stylesheet\";\n      element.type = \"text/css\";\n      element.href = url;\n      console.debug(\"Bokeh: injecting link tag for BokehJS stylesheet: \", url);\n      document.body.appendChild(element);\n    }\n\n    for (let i = 0; i < js_urls.length; i++) {\n      const url = js_urls[i];\n      const element = document.createElement('script');\n      element.onload = on_load;\n      element.onerror = on_error.bind(null, url);\n      element.async = false;\n      element.src = url;\n      console.debug(\"Bokeh: injecting script tag for BokehJS library: \", url);\n      document.head.appendChild(element);\n    }\n  };\n\n  function inject_raw_css(css) {\n    const element = document.createElement(\"style\");\n    element.appendChild(document.createTextNode(css));\n    document.body.appendChild(element);\n  }\n\n  const js_urls = [\"https://cdn.bokeh.org/bokeh/release/bokeh-2.4.3.min.js\", \"https://cdn.bokeh.org/bokeh/release/bokeh-gl-2.4.3.min.js\", \"https://cdn.bokeh.org/bokeh/release/bokeh-widgets-2.4.3.min.js\", \"https://cdn.bokeh.org/bokeh/release/bokeh-tables-2.4.3.min.js\", \"https://cdn.bokeh.org/bokeh/release/bokeh-mathjax-2.4.3.min.js\"];\n  const css_urls = [];\n\n  const inline_js = [    function(Bokeh) {\n      Bokeh.set_log_level(\"info\");\n    },\nfunction(Bokeh) {\n    }\n  ];\n\n  function run_inline_js() {\n    if (root.Bokeh !== undefined || force === true) {\n          for (let i = 0; i < inline_js.length; i++) {\n      inline_js[i].call(root, root.Bokeh);\n    }\nif (force === true) {\n        display_loaded();\n      }} else if (Date.now() < root._bokeh_timeout) {\n      setTimeout(run_inline_js, 100);\n    } else if (!root._bokeh_failed_load) {\n      console.log(\"Bokeh: BokehJS failed to load within specified timeout.\");\n      root._bokeh_failed_load = true;\n    } else if (force !== true) {\n      const cell = $(document.getElementById(\"1002\")).parents('.cell').data().cell;\n      cell.output_area.append_execute_result(NB_LOAD_WARNING)\n    }\n  }\n\n  if (root._bokeh_is_loading === 0) {\n    console.debug(\"Bokeh: BokehJS loaded, going straight to plotting\");\n    run_inline_js();\n  } else {\n    load_libs(css_urls, js_urls, function() {\n      console.debug(\"Bokeh: BokehJS plotting callback run at\", now());\n      run_inline_js();\n    });\n  }\n}(window));"
     },
     "metadata": {},
     "output_type": "display_data"
    }
   ],
   "source": [
    "output_notebook()"
   ]
  },
  {
   "cell_type": "code",
   "execution_count": 66,
   "id": "67bd5289-8f75-443a-bfd1-87736fd39b38",
   "metadata": {},
   "outputs": [
    {
     "data": {
      "application/vnd.bokehjs_exec.v0+json": "",
      "text/html": [
       "<script id=\"1311\">\n",
       "  (function() {\n",
       "    const xhr = new XMLHttpRequest()\n",
       "    xhr.responseType = 'blob';\n",
       "    xhr.open('GET', \"http://localhost:49790/autoload.js?bokeh-autoload-element=1311&bokeh-absolute-url=http://localhost:49790&resources=none\", true);\n",
       "    xhr.onload = function (event) {\n",
       "      const script = document.createElement('script');\n",
       "      const src = URL.createObjectURL(event.target.response);\n",
       "      script.src = src;\n",
       "      document.body.appendChild(script);\n",
       "    };\n",
       "    xhr.send();\n",
       "  })();\n",
       "</script>"
      ]
     },
     "metadata": {
      "application/vnd.bokehjs_exec.v0+json": {
       "server_id": "bcf66759ef534e5cbf69d5ee3f590d40"
      }
     },
     "output_type": "display_data"
    }
   ],
   "source": [
    "def bulk_text(path, keywords=None):\n",
    "    df = pd.read_csv(path)\n",
    "    df['alpha'] = 0.5\n",
    "    if keywords:\n",
    "        df['color'] = [determine_keyword(str(t), keywords) for t in df['text']]\n",
    "        df['alpha'] = [0.4 if c == 'none' else 1 for c in df['color']]\n",
    "\n",
    "    highlighted_idx = []\n",
    "\n",
    "    # mapper, df = get_color_mapping(df)\n",
    "    columns = [\n",
    "        TableColumn(field=\"title\", title=\"title\", width=500),\n",
    "        TableColumn(field=\"image_url\", title=\"image\", formatter=HTMLTemplateFormatter(template='<img src=\"<%= image_url %>\" width=60>')),\n",
    "        TableColumn(field=\"image_url\", title=\"download\", formatter=HTMLTemplateFormatter(template=r'<a href=\"<%= image_url %>\", target=\"_blank\">Download Image</a>')),\n",
    "    ]\n",
    "\n",
    "    def update(attr, old, new):\n",
    "        \"\"\"Callback used for plot update when lasso selecting\"\"\"\n",
    "        global highlighted_idx\n",
    "        subset = df.iloc[new]\n",
    "        highlighted_idx = new\n",
    "        subset = subset.iloc[np.random.permutation(len(subset))]\n",
    "        source.data = subset\n",
    "\n",
    "    def save():\n",
    "        \"\"\"Callback used to save highlighted data points\"\"\"\n",
    "        global highlighted_idx\n",
    "        df.iloc[highlighted_idx][['text']].to_csv(text_filename.value, index=False)\n",
    "\n",
    "    source = ColumnDataSource(data=dict())\n",
    "    source_orig = ColumnDataSource(data=df)\n",
    "\n",
    "    data_table = DataTable(source=source, columns=columns, width=700, height=700)\n",
    "    source.data = df\n",
    "\n",
    "    p = figure(title=\"\", sizing_mode=\"scale_both\", tools=[\"lasso_select\", \"box_select\", \"pan\", \"box_zoom\", \"wheel_zoom\", \"reset\"])\n",
    "    p.toolbar.active_drag = None\n",
    "    p.toolbar.active_inspect = None\n",
    "\n",
    "    circle_kwargs = {\"x\": \"x\", \"y\": \"y\", \"size\": 1, \"source\": source_orig, \"alpha\": \"alpha\"}\n",
    "\n",
    "    scatter = p.circle(**circle_kwargs)\n",
    "    p.plot_width = 500\n",
    "    if \"color\" in df.columns:\n",
    "        p.plot_width=350\n",
    "    p.plot_height = 700\n",
    "    ## Spinner for Node Size\n",
    "    spinner = Spinner(title=\"Circle Size\", low = 1, high=60, step=1, value=scatter.glyph.size, width=200)\n",
    "    spinner.js_link(\"value\", scatter.glyph, \"size\")\n",
    "    \n",
    "    ## Adjust Row Height\n",
    "    row_spinner = Spinner(title=\"Row Height\", low = 50, high=1000, step=10, value=data_table.row_height, width=200)\n",
    "    row_spinner.js_link(\"value\", data_table, \"row_height\")\n",
    "        \n",
    "    scatter.data_source.selected.on_change('indices', update)\n",
    "\n",
    "    text_filename = TextInput(value=\"out.csv\", title=\"Filename:\")\n",
    "    save_btn = Button(label=\"SAVE\")\n",
    "    save_btn.on_click(save)\n",
    "\n",
    "    plot = column(p)\n",
    "    controls_main = column(spinner, text_filename)\n",
    "    controls = column(row_spinner, save_btn)\n",
    "    \n",
    "    def make_doc(doc):\n",
    "        doc.add_root(row(spinner, row_spinner))\n",
    "        doc.add_root(row(plot, data_table))\n",
    "        doc.add_root(row(text_filename))\n",
    "        doc.add_root(row(save_btn))\n",
    "    handler = FunctionHandler(make_doc)\n",
    "    app=Application(handler)\n",
    "    return app\n",
    "\n",
    "\n",
    "app = bulk_text(output_file)\n",
    "show(app)"
   ]
  },
  {
   "cell_type": "code",
   "execution_count": null,
   "id": "b9c91bec-0c81-4fd7-bc64-175ccaef72f9",
   "metadata": {},
   "outputs": [],
   "source": []
  }
 ],
 "metadata": {
  "kernelspec": {
   "display_name": "Python 3 (ipykernel)",
   "language": "python",
   "name": "python3"
  },
  "language_info": {
   "codemirror_mode": {
    "name": "ipython",
    "version": 3
   },
   "file_extension": ".py",
   "mimetype": "text/x-python",
   "name": "python",
   "nbconvert_exporter": "python",
   "pygments_lexer": "ipython3",
   "version": "3.8.5"
  }
 },
 "nbformat": 4,
 "nbformat_minor": 5
}
